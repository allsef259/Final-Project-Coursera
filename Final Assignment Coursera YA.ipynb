{
  "metadata": {
    "language_info": {
      "codemirror_mode": {
        "name": "python",
        "version": 3
      },
      "file_extension": ".py",
      "mimetype": "text/x-python",
      "name": "python",
      "nbconvert_exporter": "python",
      "pygments_lexer": "ipython3",
      "version": "3.8"
    },
    "kernelspec": {
      "name": "python",
      "display_name": "Pyolite",
      "language": "python"
    }
  },
  "nbformat_minor": 4,
  "nbformat": 4,
  "cells": [
    {
      "cell_type": "markdown",
      "source": "# My Jupyter Notebook on IBM Watson Studio",
      "metadata": {}
    },
    {
      "cell_type": "markdown",
      "source": "__Youssef Allam__ <br>\nCurrently a Civil Associate for A Design Firm, Desire to become a data analyst for a company.\n",
      "metadata": {}
    },
    {
      "cell_type": "markdown",
      "source": "_I am interested in data science because I do some data science at my current company and enjoy it the most. I do most data analyses in Excel, and wish to expand my skills in this field._",
      "metadata": {}
    },
    {
      "cell_type": "markdown",
      "source": "### I will add 4+6",
      "metadata": {}
    },
    {
      "cell_type": "code",
      "source": "4+6",
      "metadata": {
        "trusted": true
      },
      "execution_count": 3,
      "outputs": [
        {
          "execution_count": 3,
          "output_type": "execute_result",
          "data": {
            "text/plain": "10"
          },
          "metadata": {}
        }
      ]
    },
    {
      "cell_type": "markdown",
      "source": "1. One\n2. Two\n3. Three\n4. Four",
      "metadata": {}
    },
    {
      "cell_type": "markdown",
      "source": "* Bullet point 1\n* Bullet point 2\n* Bullet point 3\n* Bullet point 4",
      "metadata": {}
    },
    {
      "cell_type": "markdown",
      "source": "__[ibm.com](https://www.ibm.com/us-en?ar=1)__",
      "metadata": {}
    },
    {
      "cell_type": "code",
      "source": "",
      "metadata": {},
      "execution_count": null,
      "outputs": []
    }
  ]
}